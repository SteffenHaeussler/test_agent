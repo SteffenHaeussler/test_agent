{
 "cells": [
  {
   "cell_type": "code",
   "execution_count": 1,
   "id": "1040af82-7e19-4cd7-bf36-f36675fff0c4",
   "metadata": {},
   "outputs": [],
   "source": [
    "import os\n",
    "import sys\n",
    "\n",
    "sys.path.append(os.path.abspath(\"..\"))"
   ]
  },
  {
   "cell_type": "code",
   "execution_count": 2,
   "id": "2802dea9-39c1-4c0a-a565-4abf9c984551",
   "metadata": {},
   "outputs": [],
   "source": [
    "from typing import Dict, List\n",
    "\n",
    "from loguru import logger\n",
    "from smolagents import tools\n",
    "\n",
    "from src.agent.adapters.tools.base import BaseTool"
   ]
  },
  {
   "cell_type": "code",
   "execution_count": 3,
   "id": "56524edd-6ca5-4394-a53b-f7a9322eb72f",
   "metadata": {},
   "outputs": [],
   "source": [
    "## monkey patching\n",
    "\n",
    "tools.AUTHORIZED_TYPES = [\n",
    "    \"string\",\n",
    "    \"boolean\",\n",
    "    \"integer\",\n",
    "    \"number\",\n",
    "    \"image\",\n",
    "    \"audio\",\n",
    "    \"array\",\n",
    "    \"object\",\n",
    "    \"any\",\n",
    "    \"null\",\n",
    "    \"list\",\n",
    "    \"dict\",\n",
    "]"
   ]
  },
  {
   "cell_type": "code",
   "execution_count": 4,
   "id": "852b531b-54c3-476e-b326-1001f0c46535",
   "metadata": {},
   "outputs": [],
   "source": [
    "class ConvertNameToId(BaseTool):\n",
    "    name = \"name_to_id\"\n",
    "    description = \"\"\"Converts asset names to ids.\"\"\"\n",
    "    inputs = {\"names\": {\"type\": \"list\", \"description\": \"list of asset names\"}}\n",
    "    outputs = {\"asset_ids\": {\"type\": \"list\", \"description\": \"list of asset ids\"}}\n",
    "    output_type = \"dict\"\n",
    "\n",
    "    def __init__(self, **kwargs):\n",
    "        super().__init__(**kwargs)\n",
    "\n",
    "    def forward(self, names: List[str]) -> Dict[str, List[str]]:\n",
    "        names = self.format_input(names)\n",
    "\n",
    "        response = []\n",
    "\n",
    "        for name in names:\n",
    "            api_url = f\"{self.base_url}/v1/id_from_name/{name}\"\n",
    "\n",
    "            out = self.call_api(api_url)\n",
    "\n",
    "            if out:\n",
    "                response.extend(out)\n",
    "            else:\n",
    "                logger.warning(f\"No name found for asset id {name}\")\n",
    "\n",
    "        return {\"asset_ids\": response}"
   ]
  },
  {
   "cell_type": "code",
   "execution_count": 9,
   "id": "d1da2db7-2891-4508-8278-0398cc4dbbe8",
   "metadata": {},
   "outputs": [],
   "source": [
    "kwargs = {\"tools_api_base\": \"http://localhost:5050\"}"
   ]
  },
  {
   "cell_type": "code",
   "execution_count": 10,
   "id": "7e39d446-8cda-4e26-8f76-580cad85792e",
   "metadata": {},
   "outputs": [],
   "source": [
    "tool = ConvertNameToId(**kwargs)"
   ]
  },
  {
   "cell_type": "code",
   "execution_count": 11,
   "id": "71e4fff2-2d02-4be8-8a56-840caf38db91",
   "metadata": {},
   "outputs": [],
   "source": [
    "names = [\"TI-T0023\", \"PA101\"]"
   ]
  },
  {
   "cell_type": "code",
   "execution_count": 12,
   "id": "99e6d408-72c1-4e25-b6ad-f8a8e4ac21b3",
   "metadata": {},
   "outputs": [
    {
     "name": "stderr",
     "output_type": "stream",
     "text": [
      "\u001b[32m2025-05-14 21:17:46.827\u001b[0m | \u001b[1mINFO    \u001b[0m | \u001b[36msrc.agent.adapters.tools.base\u001b[0m:\u001b[36mcall_api\u001b[0m:\u001b[36m74\u001b[0m - \u001b[1mFetching data from http://localhost:5050/v1/id_from_name/TI-T0023 with params: {'offset': 0, 'limit': 100}\u001b[0m\n",
      "\u001b[32m2025-05-14 21:17:46.887\u001b[0m | \u001b[1mINFO    \u001b[0m | \u001b[36msrc.agent.adapters.tools.base\u001b[0m:\u001b[36mcall_api\u001b[0m:\u001b[36m88\u001b[0m - \u001b[1mReached the last page.\u001b[0m\n",
      "\u001b[32m2025-05-14 21:17:46.887\u001b[0m | \u001b[1mINFO    \u001b[0m | \u001b[36msrc.agent.adapters.tools.base\u001b[0m:\u001b[36mcall_api\u001b[0m:\u001b[36m74\u001b[0m - \u001b[1mFetching data from http://localhost:5050/v1/id_from_name/PA101 with params: {'offset': 0, 'limit': 100}\u001b[0m\n",
      "\u001b[32m2025-05-14 21:17:46.913\u001b[0m | \u001b[1mINFO    \u001b[0m | \u001b[36msrc.agent.adapters.tools.base\u001b[0m:\u001b[36mcall_api\u001b[0m:\u001b[36m88\u001b[0m - \u001b[1mReached the last page.\u001b[0m\n"
     ]
    },
    {
     "data": {
      "text/plain": [
       "{'asset_ids': ['9280dee1-5dbf-45b7-9e29-c805c4555ba6',\n",
       "  'c831fadb-d620-4007-bdda-4593038c87f9']}"
      ]
     },
     "execution_count": 12,
     "metadata": {},
     "output_type": "execute_result"
    }
   ],
   "source": [
    "tool.forward(names)"
   ]
  },
  {
   "cell_type": "code",
   "execution_count": 9,
   "id": "ba0cf378-2b7c-471d-b18d-85cc13de50be",
   "metadata": {},
   "outputs": [],
   "source": [
    "names = [None, \"12\", 12, \"PA101\"]"
   ]
  },
  {
   "cell_type": "code",
   "execution_count": 10,
   "id": "e63411c2-3fc8-4875-85f6-8da3d94b275f",
   "metadata": {},
   "outputs": [
    {
     "name": "stderr",
     "output_type": "stream",
     "text": [
      "\u001b[32m2025-05-13 21:28:04.674\u001b[0m | \u001b[1mINFO    \u001b[0m | \u001b[36msrc.agent.adapters.tools.base\u001b[0m:\u001b[36mcall_api\u001b[0m:\u001b[36m74\u001b[0m - \u001b[1mFetching data from http://localhost:5050/v1/id_from_name/12 with params: {'offset': 0, 'limit': 100}\u001b[0m\n",
      "\u001b[32m2025-05-13 21:28:04.697\u001b[0m | \u001b[34m\u001b[1mDEBUG   \u001b[0m | \u001b[36msrc.agent.adapters.tools.base\u001b[0m:\u001b[36mcall_api\u001b[0m:\u001b[36m95\u001b[0m - \u001b[34m\u001b[1mHTTP error fetching name for http://localhost:5050/v1/id_from_name/12: 404 - {\"detail\":\"Asset name not found\"}\u001b[0m\n",
      "\u001b[32m2025-05-13 21:28:04.698\u001b[0m | \u001b[33m\u001b[1mWARNING \u001b[0m | \u001b[36m__main__\u001b[0m:\u001b[36mforward\u001b[0m:\u001b[36m24\u001b[0m - \u001b[33m\u001b[1mNo name found for asset id 12\u001b[0m\n",
      "\u001b[32m2025-05-13 21:28:04.698\u001b[0m | \u001b[1mINFO    \u001b[0m | \u001b[36msrc.agent.adapters.tools.base\u001b[0m:\u001b[36mcall_api\u001b[0m:\u001b[36m74\u001b[0m - \u001b[1mFetching data from http://localhost:5050/v1/id_from_name/PA101 with params: {'offset': 0, 'limit': 100}\u001b[0m\n",
      "\u001b[32m2025-05-13 21:28:04.726\u001b[0m | \u001b[1mINFO    \u001b[0m | \u001b[36msrc.agent.adapters.tools.base\u001b[0m:\u001b[36mcall_api\u001b[0m:\u001b[36m88\u001b[0m - \u001b[1mReached the last page.\u001b[0m\n"
     ]
    },
    {
     "data": {
      "text/plain": [
       "{'asset_ids': ['c831fadb-d620-4007-bdda-4593038c87f9']}"
      ]
     },
     "execution_count": 10,
     "metadata": {},
     "output_type": "execute_result"
    }
   ],
   "source": [
    "tool.forward(names)"
   ]
  },
  {
   "cell_type": "code",
   "execution_count": null,
   "id": "198ac1d5-8e01-44e5-9749-43c1aac090e6",
   "metadata": {},
   "outputs": [],
   "source": []
  },
  {
   "cell_type": "code",
   "execution_count": 11,
   "id": "a637502e-0ac0-4af3-b8bf-3b4efffdd4c2",
   "metadata": {},
   "outputs": [],
   "source": [
    "names = [\"PI-P0017\", \"PI-P0016\"]"
   ]
  },
  {
   "cell_type": "code",
   "execution_count": 12,
   "id": "b59b694e-ac6b-455e-8e84-be3ce58d8a35",
   "metadata": {},
   "outputs": [
    {
     "name": "stderr",
     "output_type": "stream",
     "text": [
      "\u001b[32m2025-05-13 21:28:04.732\u001b[0m | \u001b[1mINFO    \u001b[0m | \u001b[36msrc.agent.adapters.tools.base\u001b[0m:\u001b[36mcall_api\u001b[0m:\u001b[36m74\u001b[0m - \u001b[1mFetching data from http://localhost:5050/v1/id_from_name/PI-P0016 with params: {'offset': 0, 'limit': 100}\u001b[0m\n",
      "\u001b[32m2025-05-13 21:28:04.755\u001b[0m | \u001b[1mINFO    \u001b[0m | \u001b[36msrc.agent.adapters.tools.base\u001b[0m:\u001b[36mcall_api\u001b[0m:\u001b[36m88\u001b[0m - \u001b[1mReached the last page.\u001b[0m\n",
      "\u001b[32m2025-05-13 21:28:04.755\u001b[0m | \u001b[1mINFO    \u001b[0m | \u001b[36msrc.agent.adapters.tools.base\u001b[0m:\u001b[36mcall_api\u001b[0m:\u001b[36m74\u001b[0m - \u001b[1mFetching data from http://localhost:5050/v1/id_from_name/PI-P0017 with params: {'offset': 0, 'limit': 100}\u001b[0m\n",
      "\u001b[32m2025-05-13 21:28:04.776\u001b[0m | \u001b[1mINFO    \u001b[0m | \u001b[36msrc.agent.adapters.tools.base\u001b[0m:\u001b[36mcall_api\u001b[0m:\u001b[36m88\u001b[0m - \u001b[1mReached the last page.\u001b[0m\n"
     ]
    },
    {
     "data": {
      "text/plain": [
       "{'asset_ids': ['84200101-d718-45bf-bfae-529513586ddd',\n",
       "  '18b04353-839d-40a1-84c1-9b547d09dd80']}"
      ]
     },
     "execution_count": 12,
     "metadata": {},
     "output_type": "execute_result"
    }
   ],
   "source": [
    "tool.forward(names)"
   ]
  },
  {
   "cell_type": "code",
   "execution_count": null,
   "id": "b6e15e70-01a7-470b-9001-54615e78f754",
   "metadata": {},
   "outputs": [],
   "source": []
  }
 ],
 "metadata": {
  "kernelspec": {
   "display_name": "Python 3 (ipykernel)",
   "language": "python",
   "name": "python3"
  },
  "language_info": {
   "codemirror_mode": {
    "name": "ipython",
    "version": 3
   },
   "file_extension": ".py",
   "mimetype": "text/x-python",
   "name": "python",
   "nbconvert_exporter": "python",
   "pygments_lexer": "ipython3",
   "version": "3.12.7"
  }
 },
 "nbformat": 4,
 "nbformat_minor": 5
}
