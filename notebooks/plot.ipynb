{
 "cells": [
  {
   "cell_type": "code",
   "execution_count": null,
   "id": "997dc1f5-76df-473f-9bfb-6a53fb6ade71",
   "metadata": {},
   "outputs": [],
   "source": [
    "import os\n",
    "import sys\n",
    "\n",
    "sys.path.append(os.path.abspath(\"..\"))"
   ]
  },
  {
   "cell_type": "code",
   "execution_count": null,
   "id": "59633200-52a5-44b3-8367-097d6d1195f1",
   "metadata": {},
   "outputs": [],
   "source": [
    "%matplotlib inline\n",
    "import matplotlib.pyplot as plt"
   ]
  },
  {
   "cell_type": "code",
   "execution_count": null,
   "id": "62e738cc-451f-42ff-914f-392709f0e51c",
   "metadata": {},
   "outputs": [],
   "source": [
    "import base64\n",
    "import io\n",
    "from typing import Dict\n",
    "\n",
    "from smolagents import tools\n",
    "\n",
    "import pandas as pd\n",
    "\n",
    "from src.agent.adapters.tools.base import BaseTool"
   ]
  },
  {
   "cell_type": "code",
   "execution_count": null,
   "id": "f3cb8f58-6d07-4bf2-9c74-d3b8b53c56f2",
   "metadata": {},
   "outputs": [],
   "source": [
    "## monkey patching\n",
    "\n",
    "tools.AUTHORIZED_TYPES = [\n",
    "    \"string\",\n",
    "    \"boolean\",\n",
    "    \"integer\",\n",
    "    \"number\",\n",
    "    \"image\",\n",
    "    \"audio\",\n",
    "    \"array\",\n",
    "    \"object\",\n",
    "    \"any\",\n",
    "    \"null\",\n",
    "    \"list\",\n",
    "    \"dict\",\n",
    "    \"dataframe\",\n",
    "]"
   ]
  },
  {
   "cell_type": "code",
   "execution_count": null,
   "id": "26f7dbb8-1e9b-42fd-8253-7368e37d138b",
   "metadata": {},
   "outputs": [],
   "source": [
    "class PlotData(BaseTool):\n",
    "    name = \"plot_data\"\n",
    "    description = \"\"\"Plot data from data.\"\"\"\n",
    "    inputs = {\n",
    "        \"data\": {\"type\": \"dataframe\", \"description\": \"asset id data\"},\n",
    "    }\n",
    "    outputs = {\"plot\": {\"type\": \"str\", \"description\": \"encoded plot\"}}\n",
    "    output_type = \"dict\"\n",
    "\n",
    "    def __init__(self, **kwargs):\n",
    "        super().__init__(**kwargs)\n",
    "\n",
    "    def forward(self, data: pd.DataFrame) -> Dict[str, str]:\n",
    "        if data.empty:\n",
    "            return {\"plot\": None}\n",
    "\n",
    "        data, freq = self.simplify_time_index(data.copy())\n",
    "\n",
    "        fig, ax = plt.subplots(figsize=(12, 6))\n",
    "\n",
    "        for column_name in data.columns:\n",
    "            ax.plot(\n",
    "                data.index,\n",
    "                data[column_name],\n",
    "                label=column_name,\n",
    "                marker=\"o\",\n",
    "                linestyle=\"--\",\n",
    "            )\n",
    "\n",
    "        step = max(1, round(len(data.index) / 20))\n",
    "        xticks = data.index[::step]\n",
    "\n",
    "        # --- CHANGE 2: Format the labels based on the detected frequency ---\n",
    "        if freq == \"D\":\n",
    "            # For daily data, format as 'Year-Month-Day'\n",
    "            xtick_labels = xticks.strftime(\"%Y-%m-%d\")\n",
    "        elif freq == \"h\":\n",
    "            # For hourly data, format as 'Year-Month-Day Hour:Minute'\n",
    "            xtick_labels = xticks.strftime(\"%Y-%m-%d %H:%M\")\n",
    "        else:\n",
    "            # A sensible default for other frequencies (e.g., seconds, irregular)\n",
    "            xtick_labels = xticks.strftime(\"%Y-%m-%d %H:%M:%S\")\n",
    "\n",
    "        ax.set_xticks(xticks)\n",
    "        ax.set_xticklabels(\n",
    "            xtick_labels, rotation=45, ha=\"right\"\n",
    "        )  # Use formatted labels\n",
    "\n",
    "        ax.set_xlabel(\"Date\")\n",
    "        ax.set_ylabel(\"Value\")\n",
    "        ax.set_title(\"Time Series Plot\")\n",
    "        ax.grid(True)\n",
    "        ax.legend(title=\"Series Name\")\n",
    "        fig.tight_layout()\n",
    "\n",
    "        buf = io.BytesIO()\n",
    "\n",
    "        # Save the figure to the buffer in PNG format (or 'jpeg', 'svg', etc.)\n",
    "        # bbox_inches='tight' helps remove extra whitespace around the plot\n",
    "        fig.savefig(buf, format=\"png\", bbox_inches=\"tight\")\n",
    "\n",
    "        buf.seek(0)\n",
    "\n",
    "        # Read the binary data from the buffer\n",
    "        image_binary = buf.read()\n",
    "\n",
    "        base64_bytes = base64.b64encode(image_binary)\n",
    "        base64_string = base64_bytes.decode(\"utf-8\")\n",
    "\n",
    "        buf.close()\n",
    "        plt.close(fig)\n",
    "\n",
    "        return {\"plot\": base64_string}\n",
    "\n",
    "    def simplify_time_index(self, data):\n",
    "        \"\"\"\n",
    "        Detects if a DataFrame's index is daily or hourly, simplifies it,\n",
    "        and returns the modified DataFrame along with the detected frequency.\n",
    "\n",
    "        Returns:\n",
    "            tuple: (pd.DataFrame, str or None)\n",
    "                   The modified DataFrame and the detected frequency string ('D', 'h', etc.).\n",
    "        \"\"\"\n",
    "        data.index = pd.to_datetime(data.index)\n",
    "        detected_freq = None  # Initialize a variable to store the frequency\n",
    "\n",
    "        freq = pd.infer_freq(data.index)\n",
    "\n",
    "        if freq == \"D\":\n",
    "            data.index = data.index.normalize()\n",
    "            detected_freq = \"D\"\n",
    "        # Use .startswith() to catch 'H', 'h', '2H', etc.\n",
    "        elif freq and freq.upper().startswith(\"H\"):\n",
    "            data.index = data.index.floor(\"h\")\n",
    "            detected_freq = \"h\"\n",
    "        else:\n",
    "            # Fallback check\n",
    "            is_daily = (\n",
    "                (data.index.hour == 0).all()\n",
    "                and (data.index.minute == 0).all()\n",
    "                and (data.index.second == 0).all()\n",
    "            )\n",
    "            is_hourly = (data.index.minute == 0).all() and (\n",
    "                data.index.second == 0\n",
    "            ).all()\n",
    "\n",
    "            if is_daily:\n",
    "                data.index = data.index.normalize()\n",
    "                detected_freq = \"D\"\n",
    "            elif is_hourly:\n",
    "                data.index = data.index.floor(\"h\")\n",
    "                detected_freq = \"h\"\n",
    "\n",
    "        return data, detected_freq"
   ]
  },
  {
   "cell_type": "code",
   "execution_count": null,
   "id": "34c98c38-2eda-44bf-9348-27d50f7b2f0c",
   "metadata": {},
   "outputs": [],
   "source": [
    "kwargs = {\"tools_api_base\": \"http://localhost:5050\", \"tools_api_limit\": \"100\"}"
   ]
  },
  {
   "cell_type": "code",
   "execution_count": null,
   "id": "1dda2eda-3a01-4c1d-b7a5-683ea9b97a78",
   "metadata": {},
   "outputs": [],
   "source": [
    "tool = PlotData(**kwargs)"
   ]
  },
  {
   "cell_type": "code",
   "execution_count": null,
   "id": "45509842-65a1-448c-90a2-09b883f7bc12",
   "metadata": {},
   "outputs": [],
   "source": [
    "temp = pd.read_csv(\"/Users/steffen/dev/daily_data.csv\")\n",
    "temp.set_index(\"timestamp\", inplace=True)"
   ]
  },
  {
   "cell_type": "code",
   "execution_count": null,
   "id": "3ae61302-d169-4a42-87c8-d47d360128e1",
   "metadata": {},
   "outputs": [],
   "source": [
    "out = tool.forward(temp)"
   ]
  },
  {
   "cell_type": "code",
   "execution_count": null,
   "id": "498ee948-7946-44b6-8753-4659f147453d",
   "metadata": {},
   "outputs": [],
   "source": [
    "base64_string_to_decode = out[\"plot\"]"
   ]
  },
  {
   "cell_type": "code",
   "execution_count": null,
   "id": "c8cdff75-e756-489e-bc85-d06f24ade66e",
   "metadata": {},
   "outputs": [],
   "source": [
    "import matplotlib.image as mpimg"
   ]
  },
  {
   "cell_type": "code",
   "execution_count": null,
   "id": "449ec741-69ca-49f4-aeb9-d01149ea946c",
   "metadata": {},
   "outputs": [],
   "source": [
    "image_bytes = base64.b64decode(base64_string_to_decode)\n",
    "\n",
    "# 2. Create an in-memory buffer from the bytes\n",
    "image_buffer = io.BytesIO(image_bytes)\n",
    "\n",
    "# 3. Load Image from Buffer using Matplotlib\n",
    "# mpimg.imread can read from a file-like object\n",
    "img_data = mpimg.imread(\n",
    "    image_buffer, format=\"png\"\n",
    ")  # Specify format if known (e.g., 'png', 'jpeg')\n",
    "\n",
    "# 4. Display Image using Matplotlib\n",
    "plt.figure(figsize=(8, 6))  # Optional: Adjust figure size\n",
    "plt.imshow(img_data)\n",
    "plt.axis(\"off\")  # Turn off axis numbers and ticks for a cleaner image display\n",
    "# plt.title(\"Decoded Image\")\n",
    "plt.show()"
   ]
  }
 ],
 "metadata": {
  "kernelspec": {
   "display_name": "Python 3 (ipykernel)",
   "language": "python",
   "name": "python3"
  },
  "language_info": {
   "codemirror_mode": {
    "name": "ipython",
    "version": 3
   },
   "file_extension": ".py",
   "mimetype": "text/x-python",
   "name": "python",
   "nbconvert_exporter": "python",
   "pygments_lexer": "ipython3",
   "version": "3.12.7"
  }
 },
 "nbformat": 4,
 "nbformat_minor": 5
}
