{
 "cells": [
  {
   "cell_type": "code",
   "execution_count": 35,
   "id": "1b45a482-8811-4d55-9a9a-30a43e61243b",
   "metadata": {},
   "outputs": [],
   "source": [
    "from abc import ABC\n",
    "\n",
    "import instructor\n",
    "from litellm import completion\n",
    "from pydantic import BaseModel\n",
    "\n",
    "\n",
    "class AbstractLLM(ABC):\n",
    "    \"\"\"\n",
    "    AbstractLLM is an abstract base class for all LLM models.\n",
    "\n",
    "    Methods:\n",
    "        - use(self, question: str, response_model: BaseModel) -> BaseModel: Use the LLM model.\n",
    "    \"\"\"\n",
    "\n",
    "    def __init__(self):\n",
    "        \"\"\"\n",
    "        Initialize the LLM model.\n",
    "\n",
    "        Args:\n",
    "            kwargs: Dict: The kwargs.\n",
    "\n",
    "        Returns:\n",
    "            None\n",
    "        \"\"\"\n",
    "        pass\n",
    "\n",
    "    def use(self, question: str, response_model: BaseModel) -> BaseModel:\n",
    "        \"\"\"\n",
    "        Calls the LLM model with the given question and response model.\n",
    "\n",
    "        Args:\n",
    "            question: str: The question to use the LLM model.\n",
    "            response_model: BaseModel: The response model.\n",
    "\n",
    "        Returns:\n",
    "            response: BaseModel: The response from the LLM model.\n",
    "        \"\"\"\n",
    "        pass\n",
    "\n",
    "\n",
    "class LLM(AbstractLLM):\n",
    "    def __init__(self, kwargs):\n",
    "        \"\"\"\n",
    "        Initialize the LLM model.\n",
    "\n",
    "        Args:\n",
    "            kwargs: Dict: The kwargs.\n",
    "\n",
    "        Returns:\n",
    "            None\n",
    "        \"\"\"\n",
    "        self.model_id = kwargs[\"model_id\"]\n",
    "        self.temperature = float(kwargs[\"temperature\"])\n",
    "        self.client = self.init_llm()\n",
    "\n",
    "    def init_llm(self):\n",
    "        \"\"\"\n",
    "        Initialize the LLM model.\n",
    "\n",
    "        Returns:\n",
    "            client: instructor.from_litellm: The LLM model.\n",
    "        \"\"\"\n",
    "        client = instructor.from_litellm(completion)\n",
    "        return client\n",
    "\n",
    "    def use(self, question: str, response_model: BaseModel) -> BaseModel:\n",
    "        \"\"\"\n",
    "        Calls the LLM model with the given question and response model.\n",
    "\n",
    "        Args:\n",
    "            question: str: The question to use the LLM model.\n",
    "            response_model: BaseModel: The response model.\n",
    "\n",
    "        Returns:\n",
    "            response: BaseModel: The response from the LLM model.\n",
    "        \"\"\"\n",
    "        messages = [\n",
    "            {\"role\": \"system\", \"content\": \"You are a helpful assistant.\"},\n",
    "            {\"role\": \"user\", \"content\": question},\n",
    "        ]\n",
    "\n",
    "        response = self.client.chat.completions.create(\n",
    "            messages=messages,\n",
    "            response_model=response_model,\n",
    "            model=self.model_id,\n",
    "            temperature=self.temperature,\n",
    "        )\n",
    "\n",
    "        return response"
   ]
  },
  {
   "cell_type": "code",
   "execution_count": 48,
   "id": "af27b708-ab6d-40b4-8c1b-0a04d82398d1",
   "metadata": {},
   "outputs": [],
   "source": [
    "llm = LLM(\n",
    "    kwargs={\"model_id\": \"claude-sonnet-4-20250514\", \"temperature\": 0.0},\n",
    ")"
   ]
  },
  {
   "cell_type": "code",
   "execution_count": 49,
   "id": "42e405db-181d-40d8-9015-e1127dab1eb8",
   "metadata": {},
   "outputs": [],
   "source": [
    "class LLMResponseModel(BaseModel):\n",
    "    chain_of_thought: str\n",
    "    response: str"
   ]
  },
  {
   "cell_type": "code",
   "execution_count": 50,
   "id": "11c1efe0-67ba-47f7-88d6-34407de9f3ef",
   "metadata": {},
   "outputs": [],
   "source": [
    "response = llm.use(\"how are you?\", LLMResponseModel)"
   ]
  },
  {
   "cell_type": "code",
   "execution_count": 51,
   "id": "e51c4078-e00b-4c5e-bb0c-f1f5f2bb1c65",
   "metadata": {},
   "outputs": [
    {
     "data": {
      "text/plain": [
       "LLMResponseModel(chain_of_thought='The user is asking a simple greeting question \"how are you?\" This is a casual, friendly inquiry about my well-being or current state. I should respond in a warm, helpful manner while being honest about my nature as an AI assistant.', response=\"I'm doing well, thank you for asking! I'm here and ready to help you with whatever questions or tasks you might have. How are you doing today? Is there anything I can assist you with?\")"
      ]
     },
     "execution_count": 51,
     "metadata": {},
     "output_type": "execute_result"
    }
   ],
   "source": [
    "response"
   ]
  },
  {
   "cell_type": "code",
   "execution_count": null,
   "id": "56bc55b2-b7de-4b4b-8814-8772365c9bda",
   "metadata": {},
   "outputs": [],
   "source": []
  }
 ],
 "metadata": {
  "kernelspec": {
   "display_name": "Python 3 (ipykernel)",
   "language": "python",
   "name": "python3"
  },
  "language_info": {
   "codemirror_mode": {
    "name": "ipython",
    "version": 3
   },
   "file_extension": ".py",
   "mimetype": "text/x-python",
   "name": "python",
   "nbconvert_exporter": "python",
   "pygments_lexer": "ipython3",
   "version": "3.12.7"
  }
 },
 "nbformat": 4,
 "nbformat_minor": 5
}
