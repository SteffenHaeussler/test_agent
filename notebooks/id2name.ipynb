{
 "cells": [
  {
   "cell_type": "code",
   "execution_count": 1,
   "id": "80b90c3c-1f64-4585-ab2a-8b6d957c8cbd",
   "metadata": {},
   "outputs": [],
   "source": [
    "import os\n",
    "import sys\n",
    "\n",
    "sys.path.append(os.path.abspath(\"..\"))"
   ]
  },
  {
   "cell_type": "code",
   "execution_count": 2,
   "id": "2802dea9-39c1-4c0a-a565-4abf9c984551",
   "metadata": {},
   "outputs": [],
   "source": [
    "from typing import Dict, List\n",
    "\n",
    "from loguru import logger\n",
    "from smolagents import tools\n",
    "\n",
    "from src.agent.adapters.tools.base import BaseTool"
   ]
  },
  {
   "cell_type": "code",
   "execution_count": 3,
   "id": "56524edd-6ca5-4394-a53b-f7a9322eb72f",
   "metadata": {},
   "outputs": [],
   "source": [
    "## monkey patching\n",
    "\n",
    "tools.AUTHORIZED_TYPES = [\n",
    "    \"string\",\n",
    "    \"boolean\",\n",
    "    \"integer\",\n",
    "    \"number\",\n",
    "    \"image\",\n",
    "    \"audio\",\n",
    "    \"array\",\n",
    "    \"object\",\n",
    "    \"any\",\n",
    "    \"null\",\n",
    "    \"list\",\n",
    "    \"dict\",\n",
    "]"
   ]
  },
  {
   "cell_type": "code",
   "execution_count": 4,
   "id": "852b531b-54c3-476e-b326-1001f0c46535",
   "metadata": {},
   "outputs": [],
   "source": [
    "class ConvertIdToName(BaseTool):\n",
    "    name = \"id_to_name\"\n",
    "    description = \"\"\"Converts asset ids to the asset names.\"\"\"\n",
    "    inputs = {\"asset_ids\": {\"type\": \"list\", \"description\": \"list of asset ids\"}}\n",
    "    outputs = {\"names\": {\"type\": \"list\", \"description\": \"list of asset names\"}}\n",
    "    output_type = \"dict\"\n",
    "\n",
    "    def __init__(self, **kwargs):\n",
    "        super().__init__(**kwargs)\n",
    "\n",
    "    def forward(self, asset_ids: List[str]) -> Dict[str, List[str]]:\n",
    "        asset_ids = self.format_input(asset_ids)\n",
    "\n",
    "        response = []\n",
    "\n",
    "        for _id in asset_ids:\n",
    "            api_url = f\"{self.base_url}/v1/name_from_id/{_id}\"\n",
    "\n",
    "            out = self.call_api(api_url)\n",
    "\n",
    "            if out:\n",
    "                response.extend(out)\n",
    "            else:\n",
    "                logger.warning(f\"No name found for asset id {_id}\")\n",
    "\n",
    "        return {\"names\": response}"
   ]
  },
  {
   "cell_type": "code",
   "execution_count": 5,
   "id": "d1da2db7-2891-4508-8278-0398cc4dbbe8",
   "metadata": {},
   "outputs": [],
   "source": [
    "kwargs = {\"base_url\": \"http://localhost:5050\"}"
   ]
  },
  {
   "cell_type": "code",
   "execution_count": 6,
   "id": "7e39d446-8cda-4e26-8f76-580cad85792e",
   "metadata": {},
   "outputs": [],
   "source": [
    "tool = ConvertIdToName(**kwargs)"
   ]
  },
  {
   "cell_type": "code",
   "execution_count": 7,
   "id": "71e4fff2-2d02-4be8-8a56-840caf38db91",
   "metadata": {},
   "outputs": [],
   "source": [
    "_id = [\"c831fadb-d620-4007-bdda-4593038c87f9\", \"52f50206-c6b9-47a4-bead-fe791f71cb7c\"]"
   ]
  },
  {
   "cell_type": "code",
   "execution_count": 8,
   "id": "99e6d408-72c1-4e25-b6ad-f8a8e4ac21b3",
   "metadata": {},
   "outputs": [
    {
     "name": "stderr",
     "output_type": "stream",
     "text": [
      "\u001b[32m2025-05-14 21:15:46.044\u001b[0m | \u001b[1mINFO    \u001b[0m | \u001b[36msrc.agent.adapters.tools.base\u001b[0m:\u001b[36mcall_api\u001b[0m:\u001b[36m74\u001b[0m - \u001b[1mFetching data from None/v1/name_from_id/c831fadb-d620-4007-bdda-4593038c87f9 with params: {'offset': 0, 'limit': 100}\u001b[0m\n",
      "\u001b[32m2025-05-14 21:15:46.097\u001b[0m | \u001b[34m\u001b[1mDEBUG   \u001b[0m | \u001b[36msrc.agent.adapters.tools.base\u001b[0m:\u001b[36mcall_api\u001b[0m:\u001b[36m100\u001b[0m - \u001b[34m\u001b[1mRequest error fetching name for None/v1/name_from_id/c831fadb-d620-4007-bdda-4593038c87f9: Request URL is missing an 'http://' or 'https://' protocol.\u001b[0m\n",
      "\u001b[32m2025-05-14 21:15:46.098\u001b[0m | \u001b[33m\u001b[1mWARNING \u001b[0m | \u001b[36m__main__\u001b[0m:\u001b[36mforward\u001b[0m:\u001b[36m24\u001b[0m - \u001b[33m\u001b[1mNo name found for asset id c831fadb-d620-4007-bdda-4593038c87f9\u001b[0m\n",
      "\u001b[32m2025-05-14 21:15:46.099\u001b[0m | \u001b[1mINFO    \u001b[0m | \u001b[36msrc.agent.adapters.tools.base\u001b[0m:\u001b[36mcall_api\u001b[0m:\u001b[36m74\u001b[0m - \u001b[1mFetching data from None/v1/name_from_id/52f50206-c6b9-47a4-bead-fe791f71cb7c with params: {'offset': 0, 'limit': 100}\u001b[0m\n",
      "\u001b[32m2025-05-14 21:15:46.115\u001b[0m | \u001b[34m\u001b[1mDEBUG   \u001b[0m | \u001b[36msrc.agent.adapters.tools.base\u001b[0m:\u001b[36mcall_api\u001b[0m:\u001b[36m100\u001b[0m - \u001b[34m\u001b[1mRequest error fetching name for None/v1/name_from_id/52f50206-c6b9-47a4-bead-fe791f71cb7c: Request URL is missing an 'http://' or 'https://' protocol.\u001b[0m\n",
      "\u001b[32m2025-05-14 21:15:46.115\u001b[0m | \u001b[33m\u001b[1mWARNING \u001b[0m | \u001b[36m__main__\u001b[0m:\u001b[36mforward\u001b[0m:\u001b[36m24\u001b[0m - \u001b[33m\u001b[1mNo name found for asset id 52f50206-c6b9-47a4-bead-fe791f71cb7c\u001b[0m\n"
     ]
    },
    {
     "data": {
      "text/plain": [
       "{'names': []}"
      ]
     },
     "execution_count": 8,
     "metadata": {},
     "output_type": "execute_result"
    }
   ],
   "source": [
    "tool.forward(_id)"
   ]
  },
  {
   "cell_type": "code",
   "execution_count": 9,
   "id": "ba0cf378-2b7c-471d-b18d-85cc13de50be",
   "metadata": {},
   "outputs": [],
   "source": [
    "_id = [None, \"12\", 12, \"c831fadb-d620-4007-bdda-4593038c87f9\"]"
   ]
  },
  {
   "cell_type": "code",
   "execution_count": 10,
   "id": "e63411c2-3fc8-4875-85f6-8da3d94b275f",
   "metadata": {},
   "outputs": [
    {
     "name": "stderr",
     "output_type": "stream",
     "text": [
      "\u001b[32m2025-05-14 21:15:58.750\u001b[0m | \u001b[1mINFO    \u001b[0m | \u001b[36msrc.agent.adapters.tools.base\u001b[0m:\u001b[36mcall_api\u001b[0m:\u001b[36m74\u001b[0m - \u001b[1mFetching data from None/v1/name_from_id/c831fadb-d620-4007-bdda-4593038c87f9 with params: {'offset': 0, 'limit': 100}\u001b[0m\n",
      "\u001b[32m2025-05-14 21:15:58.785\u001b[0m | \u001b[34m\u001b[1mDEBUG   \u001b[0m | \u001b[36msrc.agent.adapters.tools.base\u001b[0m:\u001b[36mcall_api\u001b[0m:\u001b[36m100\u001b[0m - \u001b[34m\u001b[1mRequest error fetching name for None/v1/name_from_id/c831fadb-d620-4007-bdda-4593038c87f9: Request URL is missing an 'http://' or 'https://' protocol.\u001b[0m\n",
      "\u001b[32m2025-05-14 21:15:58.786\u001b[0m | \u001b[33m\u001b[1mWARNING \u001b[0m | \u001b[36m__main__\u001b[0m:\u001b[36mforward\u001b[0m:\u001b[36m24\u001b[0m - \u001b[33m\u001b[1mNo name found for asset id c831fadb-d620-4007-bdda-4593038c87f9\u001b[0m\n",
      "\u001b[32m2025-05-14 21:15:58.786\u001b[0m | \u001b[1mINFO    \u001b[0m | \u001b[36msrc.agent.adapters.tools.base\u001b[0m:\u001b[36mcall_api\u001b[0m:\u001b[36m74\u001b[0m - \u001b[1mFetching data from None/v1/name_from_id/12 with params: {'offset': 0, 'limit': 100}\u001b[0m\n",
      "\u001b[32m2025-05-14 21:15:58.803\u001b[0m | \u001b[34m\u001b[1mDEBUG   \u001b[0m | \u001b[36msrc.agent.adapters.tools.base\u001b[0m:\u001b[36mcall_api\u001b[0m:\u001b[36m100\u001b[0m - \u001b[34m\u001b[1mRequest error fetching name for None/v1/name_from_id/12: Request URL is missing an 'http://' or 'https://' protocol.\u001b[0m\n",
      "\u001b[32m2025-05-14 21:15:58.804\u001b[0m | \u001b[33m\u001b[1mWARNING \u001b[0m | \u001b[36m__main__\u001b[0m:\u001b[36mforward\u001b[0m:\u001b[36m24\u001b[0m - \u001b[33m\u001b[1mNo name found for asset id 12\u001b[0m\n"
     ]
    },
    {
     "data": {
      "text/plain": [
       "{'names': []}"
      ]
     },
     "execution_count": 10,
     "metadata": {},
     "output_type": "execute_result"
    }
   ],
   "source": [
    "tool.forward(_id)"
   ]
  },
  {
   "cell_type": "code",
   "execution_count": null,
   "id": "198ac1d5-8e01-44e5-9749-43c1aac090e6",
   "metadata": {},
   "outputs": [],
   "source": []
  }
 ],
 "metadata": {
  "kernelspec": {
   "display_name": "Python 3 (ipykernel)",
   "language": "python",
   "name": "python3"
  },
  "language_info": {
   "codemirror_mode": {
    "name": "ipython",
    "version": 3
   },
   "file_extension": ".py",
   "mimetype": "text/x-python",
   "name": "python",
   "nbconvert_exporter": "python",
   "pygments_lexer": "ipython3",
   "version": "3.12.7"
  }
 },
 "nbformat": 4,
 "nbformat_minor": 5
}
