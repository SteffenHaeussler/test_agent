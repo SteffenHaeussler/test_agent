{
 "cells": [
  {
   "cell_type": "code",
   "execution_count": 1,
   "id": "2a77b6de-1038-4ce5-9554-c3a7fad73153",
   "metadata": {},
   "outputs": [],
   "source": [
    "import os\n",
    "import sys\n",
    "\n",
    "sys.path.append(os.path.abspath(\"..\"))"
   ]
  },
  {
   "cell_type": "code",
   "execution_count": 2,
   "id": "2802dea9-39c1-4c0a-a565-4abf9c984551",
   "metadata": {},
   "outputs": [],
   "source": [
    "from typing import Dict, List\n",
    "\n",
    "from loguru import logger\n",
    "from smolagents import tools\n",
    "\n",
    "from src.agent.adapters.tools.base import BaseTool"
   ]
  },
  {
   "cell_type": "code",
   "execution_count": 3,
   "id": "56524edd-6ca5-4394-a53b-f7a9322eb72f",
   "metadata": {},
   "outputs": [],
   "source": [
    "## monkey patching\n",
    "\n",
    "tools.AUTHORIZED_TYPES = [\n",
    "    \"string\",\n",
    "    \"boolean\",\n",
    "    \"integer\",\n",
    "    \"number\",\n",
    "    \"image\",\n",
    "    \"audio\",\n",
    "    \"array\",\n",
    "    \"object\",\n",
    "    \"any\",\n",
    "    \"null\",\n",
    "    \"list\",\n",
    "    \"dict\",\n",
    "]"
   ]
  },
  {
   "cell_type": "code",
   "execution_count": 4,
   "id": "852b531b-54c3-476e-b326-1001f0c46535",
   "metadata": {},
   "outputs": [],
   "source": [
    "class GetInformation(BaseTool):\n",
    "    name = \"asset_information\"\n",
    "    description = \"\"\"Get information about an asset.\"\"\"\n",
    "    inputs = {\"asset_ids\": {\"type\": \"list\", \"description\": \"list of asset ids\"}}\n",
    "    outputs = {\"assets\": {\"type\": \"list\", \"description\": \"list of asset information\"}}\n",
    "    output_type = \"dict\"\n",
    "\n",
    "    def __init__(self, **kwargs):\n",
    "        super().__init__(**kwargs)\n",
    "\n",
    "    def forward(self, asset_ids: List[str]) -> Dict[str, List[str]]:\n",
    "        asset_ids = self.format_input(asset_ids)\n",
    "\n",
    "        response = []\n",
    "\n",
    "        for asset_id in asset_ids:\n",
    "            api_url = f\"{self.base_url}/v1/assets/{asset_id}\"\n",
    "\n",
    "            out = self.call_api(api_url)\n",
    "\n",
    "            if out:\n",
    "                response.append(out)\n",
    "            else:\n",
    "                logger.warning(f\"No information found for asset id {asset_id}\")\n",
    "\n",
    "        return {\"assets\": response}"
   ]
  },
  {
   "cell_type": "code",
   "execution_count": 5,
   "id": "d1da2db7-2891-4508-8278-0398cc4dbbe8",
   "metadata": {},
   "outputs": [],
   "source": [
    "kwargs = {\"base_url\": \"http://localhost:5050\"}"
   ]
  },
  {
   "cell_type": "code",
   "execution_count": 6,
   "id": "7e39d446-8cda-4e26-8f76-580cad85792e",
   "metadata": {},
   "outputs": [],
   "source": [
    "tool = GetInformation(**kwargs)"
   ]
  },
  {
   "cell_type": "code",
   "execution_count": 7,
   "id": "71e4fff2-2d02-4be8-8a56-840caf38db91",
   "metadata": {},
   "outputs": [],
   "source": [
    "ids = [\"9280dee1-5dbf-45b7-9e29-c805c4555ba6\", \"c831fadb-d620-4007-bdda-4593038c87f9\"]"
   ]
  },
  {
   "cell_type": "code",
   "execution_count": 8,
   "id": "99e6d408-72c1-4e25-b6ad-f8a8e4ac21b3",
   "metadata": {},
   "outputs": [
    {
     "name": "stderr",
     "output_type": "stream",
     "text": [
      "\u001b[32m2025-05-13 10:45:40.788\u001b[0m | \u001b[1mINFO    \u001b[0m | \u001b[36msrc.agent.adapters.tools.base\u001b[0m:\u001b[36mcall_api\u001b[0m:\u001b[36m71\u001b[0m - \u001b[1mFetching data from http://localhost:5050/v1/assets/9280dee1-5dbf-45b7-9e29-c805c4555ba6 with params: {'offset': 0, 'limit': 100}\u001b[0m\n",
      "\u001b[32m2025-05-13 10:45:40.831\u001b[0m | \u001b[1mINFO    \u001b[0m | \u001b[36msrc.agent.adapters.tools.base\u001b[0m:\u001b[36mcall_api\u001b[0m:\u001b[36m85\u001b[0m - \u001b[1mReached the last page.\u001b[0m\n",
      "\u001b[32m2025-05-13 10:45:40.831\u001b[0m | \u001b[1mINFO    \u001b[0m | \u001b[36msrc.agent.adapters.tools.base\u001b[0m:\u001b[36mcall_api\u001b[0m:\u001b[36m71\u001b[0m - \u001b[1mFetching data from http://localhost:5050/v1/assets/c831fadb-d620-4007-bdda-4593038c87f9 with params: {'offset': 0, 'limit': 100}\u001b[0m\n",
      "\u001b[32m2025-05-13 10:45:40.851\u001b[0m | \u001b[1mINFO    \u001b[0m | \u001b[36msrc.agent.adapters.tools.base\u001b[0m:\u001b[36mcall_api\u001b[0m:\u001b[36m85\u001b[0m - \u001b[1mReached the last page.\u001b[0m\n"
     ]
    },
    {
     "data": {
      "text/plain": [
       "{'assets': [[{'description': 'temperature indicator',\n",
       "    'type': 'indicator',\n",
       "    'range': ['-50', '300'],\n",
       "    'parent_id': 'bad9fd87-33dd-4e5d-b8b1-b96dd66c21aa',\n",
       "    'id': '9280dee1-5dbf-45b7-9e29-c805c4555ba6',\n",
       "    'name': 'TI-T0023',\n",
       "    'tag': 'TI-T0023',\n",
       "    'asset_type': 'instrument',\n",
       "    'unit': '°C'}],\n",
       "  [{'description': 'Kreiselpumpe',\n",
       "    'type': 'pump',\n",
       "    'range': [],\n",
       "    'parent_id': 'bad9fd87-33dd-4e5d-b8b1-b96dd66c21aa',\n",
       "    'id': 'c831fadb-d620-4007-bdda-4593038c87f9',\n",
       "    'name': 'PA101',\n",
       "    'tag': 'PA101',\n",
       "    'asset_type': 'equipment',\n",
       "    'unit': None}]]}"
      ]
     },
     "execution_count": 8,
     "metadata": {},
     "output_type": "execute_result"
    }
   ],
   "source": [
    "tool.forward(ids)"
   ]
  },
  {
   "cell_type": "code",
   "execution_count": 9,
   "id": "ba0cf378-2b7c-471d-b18d-85cc13de50be",
   "metadata": {},
   "outputs": [],
   "source": [
    "ids = [None, \"12\", 12, \"9280dee1-5dbf-45b7-9e29-c805c4555ba6\"]"
   ]
  },
  {
   "cell_type": "code",
   "execution_count": 10,
   "id": "e63411c2-3fc8-4875-85f6-8da3d94b275f",
   "metadata": {},
   "outputs": [
    {
     "name": "stderr",
     "output_type": "stream",
     "text": [
      "\u001b[32m2025-05-13 10:45:41.747\u001b[0m | \u001b[1mINFO    \u001b[0m | \u001b[36msrc.agent.adapters.tools.base\u001b[0m:\u001b[36mcall_api\u001b[0m:\u001b[36m71\u001b[0m - \u001b[1mFetching data from http://localhost:5050/v1/assets/12 with params: {'offset': 0, 'limit': 100}\u001b[0m\n",
      "\u001b[32m2025-05-13 10:45:41.784\u001b[0m | \u001b[34m\u001b[1mDEBUG   \u001b[0m | \u001b[36msrc.agent.adapters.tools.base\u001b[0m:\u001b[36mcall_api\u001b[0m:\u001b[36m92\u001b[0m - \u001b[34m\u001b[1mHTTP error fetching name for http://localhost:5050/v1/assets/12: 422 - {\"detail\":[{\"type\":\"uuid_parsing\",\"loc\":[\"path\",\"asset_id\"],\"msg\":\"Input should be a valid UUID, invalid length: expected length 32 for simple format, found 2\",\"input\":\"12\",\"ctx\":{\"error\":\"invalid length: expected length 32 for simple format, found 2\"}}]}\u001b[0m\n",
      "\u001b[32m2025-05-13 10:45:41.785\u001b[0m | \u001b[33m\u001b[1mWARNING \u001b[0m | \u001b[36m__main__\u001b[0m:\u001b[36mforward\u001b[0m:\u001b[36m24\u001b[0m - \u001b[33m\u001b[1mNo information found for asset id 12\u001b[0m\n",
      "\u001b[32m2025-05-13 10:45:41.785\u001b[0m | \u001b[1mINFO    \u001b[0m | \u001b[36msrc.agent.adapters.tools.base\u001b[0m:\u001b[36mcall_api\u001b[0m:\u001b[36m71\u001b[0m - \u001b[1mFetching data from http://localhost:5050/v1/assets/9280dee1-5dbf-45b7-9e29-c805c4555ba6 with params: {'offset': 0, 'limit': 100}\u001b[0m\n",
      "\u001b[32m2025-05-13 10:45:41.809\u001b[0m | \u001b[1mINFO    \u001b[0m | \u001b[36msrc.agent.adapters.tools.base\u001b[0m:\u001b[36mcall_api\u001b[0m:\u001b[36m85\u001b[0m - \u001b[1mReached the last page.\u001b[0m\n"
     ]
    },
    {
     "data": {
      "text/plain": [
       "{'assets': [[{'description': 'temperature indicator',\n",
       "    'type': 'indicator',\n",
       "    'range': ['-50', '300'],\n",
       "    'parent_id': 'bad9fd87-33dd-4e5d-b8b1-b96dd66c21aa',\n",
       "    'id': '9280dee1-5dbf-45b7-9e29-c805c4555ba6',\n",
       "    'name': 'TI-T0023',\n",
       "    'tag': 'TI-T0023',\n",
       "    'asset_type': 'instrument',\n",
       "    'unit': '°C'}]]}"
      ]
     },
     "execution_count": 10,
     "metadata": {},
     "output_type": "execute_result"
    }
   ],
   "source": [
    "tool.forward(ids)"
   ]
  },
  {
   "cell_type": "code",
   "execution_count": null,
   "id": "198ac1d5-8e01-44e5-9749-43c1aac090e6",
   "metadata": {},
   "outputs": [],
   "source": []
  },
  {
   "cell_type": "code",
   "execution_count": null,
   "id": "a637502e-0ac0-4af3-b8bf-3b4efffdd4c2",
   "metadata": {},
   "outputs": [],
   "source": []
  }
 ],
 "metadata": {
  "kernelspec": {
   "display_name": "Python 3 (ipykernel)",
   "language": "python",
   "name": "python3"
  },
  "language_info": {
   "codemirror_mode": {
    "name": "ipython",
    "version": 3
   },
   "file_extension": ".py",
   "mimetype": "text/x-python",
   "name": "python",
   "nbconvert_exporter": "python",
   "pygments_lexer": "ipython3",
   "version": "3.12.7"
  }
 },
 "nbformat": 4,
 "nbformat_minor": 5
}
