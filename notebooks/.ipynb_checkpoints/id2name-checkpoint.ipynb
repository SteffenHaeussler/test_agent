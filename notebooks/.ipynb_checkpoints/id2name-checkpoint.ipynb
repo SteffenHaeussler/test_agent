{
 "cells": [
  {
   "cell_type": "code",
   "execution_count": null,
   "id": "80b90c3c-1f64-4585-ab2a-8b6d957c8cbd",
   "metadata": {},
   "outputs": [],
   "source": [
    "import os\n",
    "import sys\n",
    "\n",
    "sys.path.append(os.path.abspath('..'))"
   ]
  },
  {
   "cell_type": "code",
   "execution_count": 4,
   "id": "2802dea9-39c1-4c0a-a565-4abf9c984551",
   "metadata": {},
   "outputs": [],
   "source": [
    "import json\n",
    "from typing import Dict, List\n",
    "\n",
    "import httpx\n",
    "from loguru import logger\n",
    "from smolagents import Tool, tools\n",
    "\n",
    "from src.agent.adapters.tools.base import BaseTool"
   ]
  },
  {
   "cell_type": "code",
   "execution_count": 2,
   "id": "56524edd-6ca5-4394-a53b-f7a9322eb72f",
   "metadata": {},
   "outputs": [],
   "source": [
    "## monkey patching\n",
    "\n",
    "tools.AUTHORIZED_TYPES = [\n",
    "    \"string\",\n",
    "    \"boolean\",\n",
    "    \"integer\",\n",
    "    \"number\",\n",
    "    \"image\",\n",
    "    \"audio\",\n",
    "    \"array\",\n",
    "    \"object\",\n",
    "    \"any\",\n",
    "    \"null\",\n",
    "    \"list\",\n",
    "    \"dict\"\n",
    "]"
   ]
  },
  {
   "cell_type": "code",
   "execution_count": 5,
   "id": "852b531b-54c3-476e-b326-1001f0c46535",
   "metadata": {},
   "outputs": [],
   "source": [
    "class ConvertIdToName(BaseTool):\n",
    "    name = \"id_to_name\"\n",
    "    description = \"\"\"Converts asset ids to the asset names.\"\"\"\n",
    "    inputs = {\"asset_ids\": {\"type\": \"list\", \"description\": \"list of asset ids\"}}\n",
    "    outputs = {\"names\": {\"type\": \"list\", \"description\": \"list of asset names\"}}\n",
    "    output_type = \"dict\"\n",
    "\n",
    "    def __init__(self, **kwargs):\n",
    "        super().__init__(**kwargs)\n",
    "\n",
    "    def forward(self, asset_ids: List[str]) -> Dict[str, List[str]]:\n",
    "        asset_ids = self.format_input(asset_ids)\n",
    "\n",
    "        response = []\n",
    "\n",
    "        for _id in asset_ids:\n",
    "            api_url = f\"{self.base_url}/v1/name_from_id/{_id}\"\n",
    "\n",
    "            out = self.call_api(api_url)\n",
    "\n",
    "            if out:\n",
    "                response.extend(out)\n",
    "            else:\n",
    "                logger.warning(f\"No name found for asset id {_id}\")\n",
    "\n",
    "        return {\"names\": response}\n"
   ]
  },
  {
   "cell_type": "code",
   "execution_count": 6,
   "id": "d1da2db7-2891-4508-8278-0398cc4dbbe8",
   "metadata": {},
   "outputs": [],
   "source": [
    "kwargs = {\"base_url\": \"http://localhost:5050\"}"
   ]
  },
  {
   "cell_type": "code",
   "execution_count": 7,
   "id": "7e39d446-8cda-4e26-8f76-580cad85792e",
   "metadata": {},
   "outputs": [],
   "source": [
    "tool = ConvertIdToName(**kwargs)"
   ]
  },
  {
   "cell_type": "code",
   "execution_count": 8,
   "id": "71e4fff2-2d02-4be8-8a56-840caf38db91",
   "metadata": {},
   "outputs": [],
   "source": [
    "_id = [\"c831fadb-d620-4007-bdda-4593038c87f9\", \"9280dee1-5dbf-45b7-9e29-c805c4555ba6\"]"
   ]
  },
  {
   "cell_type": "code",
   "execution_count": 9,
   "id": "99e6d408-72c1-4e25-b6ad-f8a8e4ac21b3",
   "metadata": {},
   "outputs": [
    {
     "name": "stderr",
     "output_type": "stream",
     "text": [
      "\u001b[32m2025-05-13 10:19:52.810\u001b[0m | \u001b[1mINFO    \u001b[0m | \u001b[36mbase\u001b[0m:\u001b[36mcall_api\u001b[0m:\u001b[36m71\u001b[0m - \u001b[1mFetching data from http://localhost:5050/v1/name_from_id/c831fadb-d620-4007-bdda-4593038c87f9 with params: {'offset': 0, 'limit': 100}\u001b[0m\n",
      "\u001b[32m2025-05-13 10:19:52.871\u001b[0m | \u001b[1mINFO    \u001b[0m | \u001b[36mbase\u001b[0m:\u001b[36mcall_api\u001b[0m:\u001b[36m85\u001b[0m - \u001b[1mReached the last page.\u001b[0m\n",
      "\u001b[32m2025-05-13 10:19:52.872\u001b[0m | \u001b[1mINFO    \u001b[0m | \u001b[36mbase\u001b[0m:\u001b[36mcall_api\u001b[0m:\u001b[36m71\u001b[0m - \u001b[1mFetching data from http://localhost:5050/v1/name_from_id/9280dee1-5dbf-45b7-9e29-c805c4555ba6 with params: {'offset': 0, 'limit': 100}\u001b[0m\n",
      "\u001b[32m2025-05-13 10:19:52.894\u001b[0m | \u001b[1mINFO    \u001b[0m | \u001b[36mbase\u001b[0m:\u001b[36mcall_api\u001b[0m:\u001b[36m85\u001b[0m - \u001b[1mReached the last page.\u001b[0m\n"
     ]
    },
    {
     "data": {
      "text/plain": [
       "{'names': ['PA101', 'TI-T0023']}"
      ]
     },
     "execution_count": 9,
     "metadata": {},
     "output_type": "execute_result"
    }
   ],
   "source": [
    "tool.forward(_id)"
   ]
  },
  {
   "cell_type": "code",
   "execution_count": 10,
   "id": "ba0cf378-2b7c-471d-b18d-85cc13de50be",
   "metadata": {},
   "outputs": [],
   "source": [
    "_id = [None, \"12\", 12, \"c831fadb-d620-4007-bdda-4593038c87f9\"]"
   ]
  },
  {
   "cell_type": "code",
   "execution_count": 11,
   "id": "e63411c2-3fc8-4875-85f6-8da3d94b275f",
   "metadata": {},
   "outputs": [
    {
     "name": "stderr",
     "output_type": "stream",
     "text": [
      "\u001b[32m2025-05-13 10:19:55.296\u001b[0m | \u001b[1mINFO    \u001b[0m | \u001b[36mbase\u001b[0m:\u001b[36mcall_api\u001b[0m:\u001b[36m71\u001b[0m - \u001b[1mFetching data from http://localhost:5050/v1/name_from_id/12 with params: {'offset': 0, 'limit': 100}\u001b[0m\n",
      "\u001b[32m2025-05-13 10:19:55.335\u001b[0m | \u001b[34m\u001b[1mDEBUG   \u001b[0m | \u001b[36mbase\u001b[0m:\u001b[36mcall_api\u001b[0m:\u001b[36m92\u001b[0m - \u001b[34m\u001b[1mHTTP error fetching name for http://localhost:5050/v1/name_from_id/12: 422 - {\"detail\":[{\"type\":\"uuid_parsing\",\"loc\":[\"path\",\"asset_id\"],\"msg\":\"Input should be a valid UUID, invalid length: expected length 32 for simple format, found 2\",\"input\":\"12\",\"ctx\":{\"error\":\"invalid length: expected length 32 for simple format, found 2\"}}]}\u001b[0m\n",
      "\u001b[32m2025-05-13 10:19:55.336\u001b[0m | \u001b[33m\u001b[1mWARNING \u001b[0m | \u001b[36m__main__\u001b[0m:\u001b[36mforward\u001b[0m:\u001b[36m24\u001b[0m - \u001b[33m\u001b[1mNo name found for asset id 12\u001b[0m\n",
      "\u001b[32m2025-05-13 10:19:55.336\u001b[0m | \u001b[1mINFO    \u001b[0m | \u001b[36mbase\u001b[0m:\u001b[36mcall_api\u001b[0m:\u001b[36m71\u001b[0m - \u001b[1mFetching data from http://localhost:5050/v1/name_from_id/c831fadb-d620-4007-bdda-4593038c87f9 with params: {'offset': 0, 'limit': 100}\u001b[0m\n",
      "\u001b[32m2025-05-13 10:19:55.359\u001b[0m | \u001b[1mINFO    \u001b[0m | \u001b[36mbase\u001b[0m:\u001b[36mcall_api\u001b[0m:\u001b[36m85\u001b[0m - \u001b[1mReached the last page.\u001b[0m\n"
     ]
    },
    {
     "data": {
      "text/plain": [
       "{'names': ['PA101']}"
      ]
     },
     "execution_count": 11,
     "metadata": {},
     "output_type": "execute_result"
    }
   ],
   "source": [
    "tool.forward(_id)"
   ]
  },
  {
   "cell_type": "code",
   "execution_count": null,
   "id": "198ac1d5-8e01-44e5-9749-43c1aac090e6",
   "metadata": {},
   "outputs": [],
   "source": []
  }
 ],
 "metadata": {
  "kernelspec": {
   "display_name": "Python 3 (ipykernel)",
   "language": "python",
   "name": "python3"
  },
  "language_info": {
   "codemirror_mode": {
    "name": "ipython",
    "version": 3
   },
   "file_extension": ".py",
   "mimetype": "text/x-python",
   "name": "python",
   "nbconvert_exporter": "python",
   "pygments_lexer": "ipython3",
   "version": "3.12.7"
  }
 },
 "nbformat": 4,
 "nbformat_minor": 5
}
