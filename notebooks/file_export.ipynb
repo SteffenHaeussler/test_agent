{
 "cells": [
  {
   "cell_type": "code",
   "execution_count": 3,
   "id": "997dc1f5-76df-473f-9bfb-6a53fb6ade71",
   "metadata": {},
   "outputs": [],
   "source": [
    "import os\n",
    "import sys\n",
    "\n",
    "sys.path.append(os.path.abspath(\"..\"))"
   ]
  },
  {
   "cell_type": "code",
   "execution_count": 8,
   "id": "62e738cc-451f-42ff-914f-392709f0e51c",
   "metadata": {},
   "outputs": [],
   "source": [
    "import io\n",
    "from typing import Dict\n",
    "from uuid import uuid4\n",
    "\n",
    "from smolagents import tools\n",
    "\n",
    "import pandas as pd\n",
    "import nc_py_api\n",
    "\n",
    "from src.agent.adapters.tools.base import BaseTool"
   ]
  },
  {
   "cell_type": "code",
   "execution_count": 5,
   "id": "f3cb8f58-6d07-4bf2-9c74-d3b8b53c56f2",
   "metadata": {},
   "outputs": [],
   "source": [
    "## monkey patching\n",
    "\n",
    "tools.AUTHORIZED_TYPES = [\n",
    "    \"string\",\n",
    "    \"boolean\",\n",
    "    \"integer\",\n",
    "    \"number\",\n",
    "    \"image\",\n",
    "    \"audio\",\n",
    "    \"array\",\n",
    "    \"object\",\n",
    "    \"any\",\n",
    "    \"null\",\n",
    "    \"list\",\n",
    "    \"dict\",\n",
    "    \"dataframe\",\n",
    "]"
   ]
  },
  {
   "cell_type": "code",
   "execution_count": 24,
   "id": "26f7dbb8-1e9b-42fd-8253-7368e37d138b",
   "metadata": {},
   "outputs": [],
   "source": [
    "class ExportData(BaseTool):\n",
    "    name = \"export_data\"\n",
    "    description = \"\"\"Stores data in external cloud storage.\"\"\"\n",
    "    inputs = {\n",
    "        \"data\": {\"type\": \"dataframe\", \"description\": \"asset id data\"},\n",
    "    }\n",
    "    outputs = {\"url\": {\"type\": \"str\", \"description\": \"storage link\"}}\n",
    "    output_type = \"dict\"\n",
    "\n",
    "    def __init__(self, **kwargs):\n",
    "        super().__init__(**kwargs)\n",
    "\n",
    "    def forward(self, data: pd.DataFrame) -> Dict[str, str]:\n",
    "        if data.empty:\n",
    "            return {\"url\": None}\n",
    "\n",
    "        nc = nc_py_api.Nextcloud(\n",
    "            nextcloud_url=os.getenv(\"NX_URL\"),\n",
    "            nc_auth_user=os.getenv(\"NX_USER\"),\n",
    "            nc_auth_pass=os.getenv(\"NX_PASSWORD\"),\n",
    "        )\n",
    "\n",
    "        file_name = f\"agent/{str(uuid4())}.csv\"\n",
    "\n",
    "        buffer = io.BytesIO()\n",
    "\n",
    "        # DataFrame als CSV in den BytesIO-Puffer schreiben\n",
    "        data.to_csv(buffer, index=False)\n",
    "\n",
    "        buffer.seek(0)\n",
    "        nc.files.upload_stream(file_name, buffer)\n",
    "\n",
    "        share = nc.files.sharing.create(\n",
    "            path=file_name,  # path to the folder in your Nextcloud\n",
    "            share_type=3,  # 3 = public link\n",
    "        )\n",
    "        return {\"url\": share.url}"
   ]
  },
  {
   "cell_type": "code",
   "execution_count": 25,
   "id": "34c98c38-2eda-44bf-9348-27d50f7b2f0c",
   "metadata": {},
   "outputs": [],
   "source": [
    "kwargs = {\"tools_api_base\": \"http://localhost:5050\", \"tools_api_limit\": \"100\"}"
   ]
  },
  {
   "cell_type": "code",
   "execution_count": 26,
   "id": "1dda2eda-3a01-4c1d-b7a5-683ea9b97a78",
   "metadata": {},
   "outputs": [],
   "source": [
    "tool = ExportData(**kwargs)"
   ]
  },
  {
   "cell_type": "code",
   "execution_count": 27,
   "id": "45509842-65a1-448c-90a2-09b883f7bc12",
   "metadata": {},
   "outputs": [],
   "source": [
    "temp = pd.read_csv(\"/Users/steffen/dev/daily_data.csv\")\n",
    "temp.set_index(\"timestamp\", inplace=True)"
   ]
  },
  {
   "cell_type": "code",
   "execution_count": 28,
   "id": "3ae61302-d169-4a42-87c8-d47d360128e1",
   "metadata": {},
   "outputs": [],
   "source": [
    "out = tool.forward(temp)"
   ]
  },
  {
   "cell_type": "code",
   "execution_count": 29,
   "id": "21117f89-b9b8-4749-818a-ed042cce1da4",
   "metadata": {},
   "outputs": [
    {
     "data": {
      "text/plain": [
       "{'url': 'https://nx74354.your-storageshare.de/s/gd2EwSpESJNK4jf'}"
      ]
     },
     "execution_count": 29,
     "metadata": {},
     "output_type": "execute_result"
    }
   ],
   "source": [
    "out"
   ]
  },
  {
   "cell_type": "code",
   "execution_count": null,
   "id": "b00b30d6-ce3a-4860-b9f7-483c39296f47",
   "metadata": {},
   "outputs": [],
   "source": []
  }
 ],
 "metadata": {
  "kernelspec": {
   "display_name": "Python 3 (ipykernel)",
   "language": "python",
   "name": "python3"
  },
  "language_info": {
   "codemirror_mode": {
    "name": "ipython",
    "version": 3
   },
   "file_extension": ".py",
   "mimetype": "text/x-python",
   "name": "python",
   "nbconvert_exporter": "python",
   "pygments_lexer": "ipython3",
   "version": "3.12.7"
  }
 },
 "nbformat": 4,
 "nbformat_minor": 5
}
