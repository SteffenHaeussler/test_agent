{
 "cells": [
  {
   "cell_type": "code",
   "execution_count": null,
   "id": "1bb44557-df59-48ad-a7f2-0339914de3af",
   "metadata": {},
   "outputs": [],
   "source": [
    "import os\n",
    "import sys\n",
    "\n",
    "sys.path.append(os.path.abspath(\"..\"))"
   ]
  },
  {
   "cell_type": "code",
   "execution_count": 1,
   "id": "62e738cc-451f-42ff-914f-392709f0e51c",
   "metadata": {},
   "outputs": [],
   "source": [
    "from typing import Dict\n",
    "\n",
    "from smolagents import tools\n",
    "\n",
    "import pandas as pd\n",
    "\n",
    "from src.agent.adapters.tools.base import BaseTool"
   ]
  },
  {
   "cell_type": "code",
   "execution_count": 2,
   "id": "f3cb8f58-6d07-4bf2-9c74-d3b8b53c56f2",
   "metadata": {},
   "outputs": [],
   "source": [
    "## monkey patching\n",
    "\n",
    "tools.AUTHORIZED_TYPES = [\n",
    "    \"string\",\n",
    "    \"boolean\",\n",
    "    \"integer\",\n",
    "    \"number\",\n",
    "    \"image\",\n",
    "    \"audio\",\n",
    "    \"array\",\n",
    "    \"object\",\n",
    "    \"any\",\n",
    "    \"null\",\n",
    "    \"list\",\n",
    "    \"dict\",\n",
    "    \"dataframe\",\n",
    "]"
   ]
  },
  {
   "cell_type": "code",
   "execution_count": 3,
   "id": "26f7dbb8-1e9b-42fd-8253-7368e37d138b",
   "metadata": {},
   "outputs": [],
   "source": [
    "class CompareData(BaseTool):\n",
    "    name = \"compare_data\"\n",
    "    description = \"\"\"Compare data from two assets.\"\"\"\n",
    "    inputs = {\n",
    "        \"data\": {\"type\": \"dataframe\", \"description\": \"asset id data\"},\n",
    "    }\n",
    "    outputs = {\"data\": {\"type\": \"dataframe\", \"description\": \"compared sensor data\"}}\n",
    "    output_type = \"dict\"\n",
    "\n",
    "    def __init__(self, **kwargs):\n",
    "        super().__init__(**kwargs)\n",
    "\n",
    "    def forward(self, data: pd.DataFrame) -> Dict[str, pd.DataFrame]:\n",
    "        if data.empty:\n",
    "            comparison = pd.DataFrame()\n",
    "        else:\n",
    "            comparison = data.describe()\n",
    "\n",
    "        return {\"data\": comparison}"
   ]
  },
  {
   "cell_type": "code",
   "execution_count": 4,
   "id": "34c98c38-2eda-44bf-9348-27d50f7b2f0c",
   "metadata": {},
   "outputs": [],
   "source": [
    "kwargs = {\"base_url\": \"http://localhost:5050\"}"
   ]
  },
  {
   "cell_type": "code",
   "execution_count": 5,
   "id": "1dda2eda-3a01-4c1d-b7a5-683ea9b97a78",
   "metadata": {},
   "outputs": [],
   "source": [
    "tool = CompareData(**kwargs)"
   ]
  },
  {
   "cell_type": "code",
   "execution_count": 6,
   "id": "45509842-65a1-448c-90a2-09b883f7bc12",
   "metadata": {},
   "outputs": [],
   "source": [
    "temp = pd.read_csv(\"temp.csv\")"
   ]
  },
  {
   "cell_type": "code",
   "execution_count": 7,
   "id": "3ae61302-d169-4a42-87c8-d47d360128e1",
   "metadata": {},
   "outputs": [],
   "source": [
    "out = tool.forward(temp)"
   ]
  },
  {
   "cell_type": "code",
   "execution_count": 8,
   "id": "b86c4a3f-e84b-4e26-92e0-d7c134bc402b",
   "metadata": {},
   "outputs": [
    {
     "data": {
      "text/plain": [
       "{'data':        52f50206-c6b9-47a4-bead-fe791f71cb7c  \\\n",
       " count                                1440.0   \n",
       " mean                                    1.0   \n",
       " std                                     0.0   \n",
       " min                                     1.0   \n",
       " 25%                                     1.0   \n",
       " 50%                                     1.0   \n",
       " 75%                                     1.0   \n",
       " max                                     1.0   \n",
       " \n",
       "        a1ff2d3a-6fa9-492a-af51-cfd579cb2308  \n",
       " count                           1440.000000  \n",
       " mean                               7.036118  \n",
       " std                                2.985282  \n",
       " min                                0.000000  \n",
       " 25%                                4.857500  \n",
       " 50%                                7.705000  \n",
       " 75%                               10.000000  \n",
       " max                               10.000000  }"
      ]
     },
     "execution_count": 8,
     "metadata": {},
     "output_type": "execute_result"
    }
   ],
   "source": [
    "out"
   ]
  },
  {
   "cell_type": "code",
   "execution_count": null,
   "id": "47757878-d164-445b-9eb1-e118ab8e2c7a",
   "metadata": {},
   "outputs": [],
   "source": []
  }
 ],
 "metadata": {
  "kernelspec": {
   "display_name": "Python 3 (ipykernel)",
   "language": "python",
   "name": "python3"
  },
  "language_info": {
   "codemirror_mode": {
    "name": "ipython",
    "version": 3
   },
   "file_extension": ".py",
   "mimetype": "text/x-python",
   "name": "python",
   "nbconvert_exporter": "python",
   "pygments_lexer": "ipython3",
   "version": "3.12.7"
  }
 },
 "nbformat": 4,
 "nbformat_minor": 5
}
